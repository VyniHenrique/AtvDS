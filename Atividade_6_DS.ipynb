{
  "nbformat": 4,
  "nbformat_minor": 0,
  "metadata": {
    "colab": {
      "provenance": [],
      "authorship_tag": "ABX9TyNyw08VsXJqytAzeGm+nr7b",
      "include_colab_link": true
    },
    "kernelspec": {
      "name": "python3",
      "display_name": "Python 3"
    },
    "language_info": {
      "name": "python"
    }
  },
  "cells": [
    {
      "cell_type": "markdown",
      "metadata": {
        "id": "view-in-github",
        "colab_type": "text"
      },
      "source": [
        "<a href=\"https://colab.research.google.com/github/VyniHenrique/AtvDS/blob/main/Atividade_6_DS.ipynb\" target=\"_parent\"><img src=\"https://colab.research.google.com/assets/colab-badge.svg\" alt=\"Open In Colab\"/></a>"
      ]
    },
    {
      "cell_type": "markdown",
      "metadata": {
        "id": "7d3e41e3"
      },
      "source": [
        "# *Introdução*\n",
        "###**Neste DataSet eu trabalhei com as duas seguintes hipóteses:**\n",
        "\n",
        "  H1: No YouTube dos Estados Unidos, vídeos postados entre 12h e 22h estão mais propensos a entrar nas tendências do dia.\n",
        "\n",
        "  H2: No YouTube do Japão, vídeos postados entre 00h e 12h estão mais propensos a entrar nas tendências do dia.\n"
      ]
    },
    {
      "cell_type": "markdown",
      "metadata": {
        "id": "77aa3e49"
      },
      "source": [
        "## Carregamento de dados\n",
        "\n",
        "### Subtarefa:\n",
        "Carregue os conjuntos de dados `USvideos.csv` e `JPvideos.csv` em DataFrames pandas."
      ]
    },
    {
      "cell_type": "markdown",
      "metadata": {
        "id": "bf295711"
      },
      "source": [
        "## Manipulação de dados (dados dos EUA)\n",
        "\n",
        "Extraí a hora do dia da coluna `publish_time` para o conjunto de dados dos EUA e criei uma nova coluna para ela. Categorizei os vídeos em dois grupos com base na hora: 12h às 22h e outros horários."
      ]
    },
    {
      "cell_type": "markdown",
      "metadata": {
        "id": "8310d5c7"
      },
      "source": [
        "## Manipulação de dados (dados do Japão)\n",
        "\n",
        "Extraí a hora do dia da coluna `publish_time` para o conjunto de dados do Japão e criei uma nova coluna para ela. Categorizei os vídeos em dois grupos com base na hora: 12h às 22h e outros horários."
      ]
    },
    {
      "cell_type": "markdown",
      "metadata": {
        "id": "439a6e6b"
      },
      "source": [
        "## Teste de hipótese (US Videos)\n"
      ]
    },
    {
      "cell_type": "code",
      "metadata": {
        "colab": {
          "base_uri": "https://localhost:8080/"
        },
        "id": "936c60b1",
        "outputId": "3d71a97b-a163-483e-ea8b-d41358fe8970"
      },
      "source": [
        "from scipy.stats import chi2_contingency\n",
        "\n",
        "# Perform chi-squared test for US data\n",
        "chi2_us, p_us, dof_us, expected_us = chi2_contingency(contingency_table_us)\n",
        "\n",
        "print(f\"Chi-squared statistic (US): {chi2_us}\")\n",
        "print(f\"P-value (US): {p_us}\")\n",
        "print(f\"Degrees of freedom (US): {dof_us}\")"
      ],
      "execution_count": 13,
      "outputs": [
        {
          "output_type": "stream",
          "name": "stdout",
          "text": [
            "Chi-squared statistic (US): 0.0\n",
            "P-value (US): 1.0\n",
            "Degrees of freedom (US): 0\n"
          ]
        }
      ]
    },
    {
      "cell_type": "markdown",
      "metadata": {
        "id": "04e4acbe"
      },
      "source": [
        "## Teste de hpótese (Japan Videos)\n"
      ]
    },
    {
      "cell_type": "code",
      "metadata": {
        "colab": {
          "base_uri": "https://localhost:8080/"
        },
        "id": "74065814",
        "outputId": "826eb83a-cb12-420a-b0d6-559e12318dad"
      },
      "source": [
        "# Perform chi-squared test for Japan data\n",
        "chi2_jp, p_jp, dof_jp, expected_jp = chi2_contingency(contingency_table_jp)\n",
        "\n",
        "print(f\"Chi-squared statistic (Japan): {chi2_jp}\")\n",
        "print(f\"P-value (Japan): {p_jp}\")\n",
        "print(f\"Degrees of freedom (Japan): {dof_jp}\")"
      ],
      "execution_count": 14,
      "outputs": [
        {
          "output_type": "stream",
          "name": "stdout",
          "text": [
            "Chi-squared statistic (Japan): 0.0\n",
            "P-value (Japan): 1.0\n",
            "Degrees of freedom (Japan): 0\n"
          ]
        }
      ]
    },
    {
      "cell_type": "markdown",
      "metadata": {
        "id": "d063e341"
      },
      "source": [
        "## Resultados\n"
      ]
    },
    {
      "cell_type": "code",
      "metadata": {
        "colab": {
          "base_uri": "https://localhost:8080/"
        },
        "id": "735a97e5",
        "outputId": "62444a71-f3f2-49ad-fed7-c244ee099a2e"
      },
      "source": [
        "alpha = 0.05\n",
        "\n",
        "print(\"Hypothesis Test Results:\")\n",
        "print(\"-\" * 30)\n",
        "\n",
        "print(\"\\nUS Data (H1):\")\n",
        "print(f\"Chi-squared statistic: {chi2_us}\")\n",
        "print(f\"P-value: {p_us}\")\n",
        "print(f\"Degrees of freedom: {dof_us}\")\n",
        "if p_us < alpha:\n",
        "    print(\"Conclusion: Reject the null hypothesis. Videos published between 12 PM and 10 PM are more likely to trend in the US.\")\n",
        "else:\n",
        "    print(\"Conclusion: Fail to reject the null hypothesis. There is not statistically significant evidence to suggest that videos published between 12 PM and 10 PM are more likely to trend in the US.\")\n",
        "\n",
        "print(\"\\nJapan Data (H2):\")\n",
        "print(f\"Chi-squared statistic: {chi2_jp}\")\n",
        "print(f\"P-value: {p_jp}\")\n",
        "print(f\"Degrees of freedom: {dof_jp}\")\n",
        "if p_jp < alpha:\n",
        "    print(\"Conclusion: Reject the null hypothesis. Videos published between midnight and 12 noon are more likely to trend in Japan.\")\n",
        "else:\n",
        "    print(\"Conclusion: Fail to reject the null hypothesis. There is not statistically significant evidence to suggest that videos published between midnight and 12 noon are more likely to trend in Japan.\")"
      ],
      "execution_count": 15,
      "outputs": [
        {
          "output_type": "stream",
          "name": "stdout",
          "text": [
            "Hypothesis Test Results:\n",
            "------------------------------\n",
            "\n",
            "US Data (H1):\n",
            "Chi-squared statistic: 0.0\n",
            "P-value: 1.0\n",
            "Degrees of freedom: 0\n",
            "Conclusion: Fail to reject the null hypothesis. There is not statistically significant evidence to suggest that videos published between 12 PM and 10 PM are more likely to trend in the US.\n",
            "\n",
            "Japan Data (H2):\n",
            "Chi-squared statistic: 0.0\n",
            "P-value: 1.0\n",
            "Degrees of freedom: 0\n",
            "Conclusion: Fail to reject the null hypothesis. There is not statistically significant evidence to suggest that videos published between midnight and 12 noon are more likely to trend in Japan.\n"
          ]
        }
      ]
    },
    {
      "cell_type": "markdown",
      "metadata": {
        "id": "fc2d3f90"
      },
      "source": [
        "## Resumo:\n",
        "\n",
        "### Perguntas e Respostas\n",
        "\n",
        "1. **H1: Nos Estados Unidos, vídeos postados entre 12h e 22h têm maior probabilidade de virar tendência naquele dia.**\n",
        "Com base no teste qui-quadrado com um valor p de 1.0000, não há evidências estatisticamente significativas para apoiar esta hipótese. Não conseguimos rejeitar a hipótese nula.\n",
        "2. **H2: No Japão, vídeos postados entre meia-noite e 12h têm maior probabilidade de virar tendência naquele dia.**\n",
        "Com base no teste qui-quadrado com um valor p de 1.0000, não há evidências estatisticamente significativas para apoiar esta hipótese. Não conseguimos rejeitar a hipótese nula.\n",
        "\n",
        "### Principais Descobertas da Análise de Dados\n",
        "\n",
        "* Para o conjunto de dados dos EUA (H1), a estatística do teste qui-quadrado foi de 0.0000 com um valor p de 1.0000.\n",
        "* Para o conjunto de dados do Japão (H2), a estatística do teste qui-quadrado foi de 0.0000 com um valor p de 1.0000.\n",
        "* Em um nível de significância de 0.05, ambos os testes de hipótese resultaram em valores p maiores que alfa, levando à falha em rejeitar as hipóteses nulas para H1 e H2.\n",
        "* A análise não encontrou associação estatisticamente significativa entre as janelas de tempo de publicação especificadas (12h - 22h para os EUA e meia-noite - 12h para o Japão) e a probabilidade de vídeos virarem tendência nos respectivos países, com base nos conjuntos de dados fornecidos."
      ]
    }
  ]
}